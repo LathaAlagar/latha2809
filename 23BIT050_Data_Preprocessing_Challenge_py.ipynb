{
  "nbformat": 4,
  "nbformat_minor": 0,
  "metadata": {
    "colab": {
      "provenance": [],
      "authorship_tag": "ABX9TyPKXEuYdL1PE417B183OJsY",
      "include_colab_link": true
    },
    "kernelspec": {
      "name": "python3",
      "display_name": "Python 3"
    },
    "language_info": {
      "name": "python"
    }
  },
  "cells": [
    {
      "cell_type": "markdown",
      "metadata": {
        "id": "view-in-github",
        "colab_type": "text"
      },
      "source": [
        "<a href=\"https://colab.research.google.com/github/LathaAlagar/latha2809/blob/main/23BIT050_Data_Preprocessing_Challenge_py.ipynb\" target=\"_parent\"><img src=\"https://colab.research.google.com/assets/colab-badge.svg\" alt=\"Open In Colab\"/></a>"
      ]
    },
    {
      "cell_type": "code",
      "execution_count": 1,
      "metadata": {
        "colab": {
          "base_uri": "https://localhost:8080/"
        },
        "id": "R-EUenyggwyL",
        "outputId": "5147636a-72aa-4d38-81ea-989f9df2b222"
      },
      "outputs": [
        {
          "output_type": "stream",
          "name": "stdout",
          "text": [
            "Requirement already satisfied: pyspark in /usr/local/lib/python3.12/dist-packages (3.5.1)\n",
            "Requirement already satisfied: kagglehub in /usr/local/lib/python3.12/dist-packages (0.3.13)\n",
            "Requirement already satisfied: py4j==0.10.9.7 in /usr/local/lib/python3.12/dist-packages (from pyspark) (0.10.9.7)\n",
            "Requirement already satisfied: packaging in /usr/local/lib/python3.12/dist-packages (from kagglehub) (25.0)\n",
            "Requirement already satisfied: pyyaml in /usr/local/lib/python3.12/dist-packages (from kagglehub) (6.0.3)\n",
            "Requirement already satisfied: requests in /usr/local/lib/python3.12/dist-packages (from kagglehub) (2.32.4)\n",
            "Requirement already satisfied: tqdm in /usr/local/lib/python3.12/dist-packages (from kagglehub) (4.67.1)\n",
            "Requirement already satisfied: charset_normalizer<4,>=2 in /usr/local/lib/python3.12/dist-packages (from requests->kagglehub) (3.4.3)\n",
            "Requirement already satisfied: idna<4,>=2.5 in /usr/local/lib/python3.12/dist-packages (from requests->kagglehub) (3.10)\n",
            "Requirement already satisfied: urllib3<3,>=1.21.1 in /usr/local/lib/python3.12/dist-packages (from requests->kagglehub) (2.5.0)\n",
            "Requirement already satisfied: certifi>=2017.4.17 in /usr/local/lib/python3.12/dist-packages (from requests->kagglehub) (2025.10.5)\n"
          ]
        }
      ],
      "source": [
        "!pip install pyspark kagglehub"
      ]
    },
    {
      "cell_type": "code",
      "source": [
        "import kagglehub\n",
        "from pyspark.sql import SparkSession\n",
        "from pyspark.sql.functions import col, mean, when, count, isnan\n",
        "from pyspark.ml.feature import VectorAssembler, StandardScaler\n",
        "\n",
        "# Download latest version of dataset\n",
        "path = kagglehub.dataset_download(\"mlg-ulb/creditcardfraud\")\n",
        "print(\"📁 Path to dataset files:\", path)\n"
      ],
      "metadata": {
        "colab": {
          "base_uri": "https://localhost:8080/"
        },
        "id": "rnr91aUEg3X7",
        "outputId": "bf6bfc88-82f2-48b7-c25d-6c270373a48c"
      },
      "execution_count": 3,
      "outputs": [
        {
          "output_type": "stream",
          "name": "stdout",
          "text": [
            "Using Colab cache for faster access to the 'creditcardfraud' dataset.\n",
            "📁 Path to dataset files: /kaggle/input/creditcardfraud\n"
          ]
        }
      ]
    },
    {
      "cell_type": "code",
      "source": [
        "spark = SparkSession.builder \\\n",
        "    .appName(\"DataPreprocessingChallenge\") \\\n",
        "    .getOrCreate()\n",
        "\n",
        "print(\"✅ Spark session created successfully!\")\n"
      ],
      "metadata": {
        "colab": {
          "base_uri": "https://localhost:8080/"
        },
        "id": "MHo-Cuaeg5SE",
        "outputId": "83792d7d-1264-4e39-a9c6-016e273a2673"
      },
      "execution_count": 4,
      "outputs": [
        {
          "output_type": "stream",
          "name": "stdout",
          "text": [
            "✅ Spark session created successfully!\n"
          ]
        }
      ]
    },
    {
      "cell_type": "code",
      "source": [
        "# Read CSV file\n",
        "file_path = f\"{path}/creditcard.csv\"  # Kaggle dataset file name\n",
        "data = spark.read.csv(file_path, header=True, inferSchema=True)\n",
        "\n",
        "print(\"✅ Dataset loaded successfully.\")\n",
        "data.printSchema()\n",
        "data.show(5)\n"
      ],
      "metadata": {
        "colab": {
          "base_uri": "https://localhost:8080/"
        },
        "id": "Mst-IKyGg74r",
        "outputId": "151b524d-707d-4d02-a84a-31e0c6089453"
      },
      "execution_count": 5,
      "outputs": [
        {
          "output_type": "stream",
          "name": "stdout",
          "text": [
            "✅ Dataset loaded successfully.\n",
            "root\n",
            " |-- Time: double (nullable = true)\n",
            " |-- V1: double (nullable = true)\n",
            " |-- V2: double (nullable = true)\n",
            " |-- V3: double (nullable = true)\n",
            " |-- V4: double (nullable = true)\n",
            " |-- V5: double (nullable = true)\n",
            " |-- V6: double (nullable = true)\n",
            " |-- V7: double (nullable = true)\n",
            " |-- V8: double (nullable = true)\n",
            " |-- V9: double (nullable = true)\n",
            " |-- V10: double (nullable = true)\n",
            " |-- V11: double (nullable = true)\n",
            " |-- V12: double (nullable = true)\n",
            " |-- V13: double (nullable = true)\n",
            " |-- V14: double (nullable = true)\n",
            " |-- V15: double (nullable = true)\n",
            " |-- V16: double (nullable = true)\n",
            " |-- V17: double (nullable = true)\n",
            " |-- V18: double (nullable = true)\n",
            " |-- V19: double (nullable = true)\n",
            " |-- V20: double (nullable = true)\n",
            " |-- V21: double (nullable = true)\n",
            " |-- V22: double (nullable = true)\n",
            " |-- V23: double (nullable = true)\n",
            " |-- V24: double (nullable = true)\n",
            " |-- V25: double (nullable = true)\n",
            " |-- V26: double (nullable = true)\n",
            " |-- V27: double (nullable = true)\n",
            " |-- V28: double (nullable = true)\n",
            " |-- Amount: double (nullable = true)\n",
            " |-- Class: integer (nullable = true)\n",
            "\n",
            "+----+------------------+-------------------+----------------+------------------+-------------------+-------------------+-------------------+------------------+------------------+-------------------+------------------+------------------+------------------+------------------+------------------+------------------+------------------+-------------------+------------------+-------------------+--------------------+-------------------+------------------+------------------+------------------+------------------+--------------------+-------------------+------+-----+\n",
            "|Time|                V1|                 V2|              V3|                V4|                 V5|                 V6|                 V7|                V8|                V9|                V10|               V11|               V12|               V13|               V14|               V15|               V16|               V17|                V18|               V19|                V20|                 V21|                V22|               V23|               V24|               V25|               V26|                 V27|                V28|Amount|Class|\n",
            "+----+------------------+-------------------+----------------+------------------+-------------------+-------------------+-------------------+------------------+------------------+-------------------+------------------+------------------+------------------+------------------+------------------+------------------+------------------+-------------------+------------------+-------------------+--------------------+-------------------+------------------+------------------+------------------+------------------+--------------------+-------------------+------+-----+\n",
            "| 0.0|  -1.3598071336738|-0.0727811733098497|2.53634673796914|  1.37815522427443| -0.338320769942518|  0.462387777762292|  0.239598554061257|0.0986979012610507| 0.363786969611213| 0.0907941719789316|-0.551599533260813|-0.617800855762348|-0.991389847235408|-0.311169353699879|  1.46817697209427|-0.470400525259478| 0.207971241929242| 0.0257905801985591| 0.403992960255733|  0.251412098239705|  -0.018306777944153|  0.277837575558899|-0.110473910188767|0.0669280749146731| 0.128539358273528|-0.189114843888824|   0.133558376740387|-0.0210530534538215|149.62|    0|\n",
            "| 0.0|  1.19185711131486|   0.26615071205963|0.16648011335321| 0.448154078460911| 0.0600176492822243|-0.0823608088155687|-0.0788029833323113|0.0851016549148104|-0.255425128109186| -0.166974414004614|  1.61272666105479|  1.06523531137287|  0.48909501589608|-0.143772296441519| 0.635558093258208| 0.463917041022171|-0.114804663102346| -0.183361270123994|-0.145783041325259|-0.0690831352230203|  -0.225775248033138| -0.638671952771851| 0.101288021253234|-0.339846475529127| 0.167170404418143| 0.125894532368176|-0.00898309914322813| 0.0147241691924927|  2.69|    0|\n",
            "| 1.0| -1.35835406159823|  -1.34016307473609|1.77320934263119| 0.379779593034328| -0.503198133318193|   1.80049938079263|  0.791460956450422| 0.247675786588991| -1.51465432260583|  0.207642865216696| 0.624501459424895| 0.066083685268831| 0.717292731410831|-0.165945922763554|  2.34586494901581| -2.89008319444231|  1.10996937869599| -0.121359313195888| -2.26185709530414|  0.524979725224404|   0.247998153469754|  0.771679401917229| 0.909412262347719|-0.689280956490685|-0.327641833735251|-0.139096571514147| -0.0553527940384261|-0.0597518405929204|378.66|    0|\n",
            "| 1.0|-0.966271711572087| -0.185226008082898|1.79299333957872|-0.863291275036453|-0.0103088796030823|   1.24720316752486|   0.23760893977178| 0.377435874652262| -1.38702406270197|-0.0549519224713749|-0.226487263835401| 0.178228225877303| 0.507756869957169| -0.28792374549456|-0.631418117709045|  -1.0596472454325|-0.684092786345479|   1.96577500349538|  -1.2326219700892| -0.208037781160366|  -0.108300452035545|0.00527359678253453|-0.190320518742841| -1.17557533186321| 0.647376034602038|-0.221928844458407|  0.0627228487293033| 0.0614576285006353| 123.5|    0|\n",
            "| 2.0| -1.15823309349523|  0.877736754848451|  1.548717846511| 0.403033933955121| -0.407193377311653| 0.0959214624684256|  0.592940745385545|-0.270532677192282| 0.817739308235294|  0.753074431976354|-0.822842877946363|  0.53819555014995|   1.3458515932154| -1.11966983471731| 0.175121130008994|-0.451449182813529|-0.237033239362776|-0.0381947870352842| 0.803486924960175|  0.408542360392758|-0.00943069713232919|   0.79827849458971|-0.137458079619063| 0.141266983824769|-0.206009587619756| 0.502292224181569|   0.219422229513348|  0.215153147499206| 69.99|    0|\n",
            "+----+------------------+-------------------+----------------+------------------+-------------------+-------------------+-------------------+------------------+------------------+-------------------+------------------+------------------+------------------+------------------+------------------+------------------+------------------+-------------------+------------------+-------------------+--------------------+-------------------+------------------+------------------+------------------+------------------+--------------------+-------------------+------+-----+\n",
            "only showing top 5 rows\n",
            "\n"
          ]
        }
      ]
    },
    {
      "cell_type": "code",
      "source": [
        "# Count missing values\n",
        "missing_counts = data.select([count(when(col(c).isNull() | isnan(c), c)).alias(c) for c in data.columns])\n",
        "print(\"🔍 Missing value count per column:\")\n",
        "missing_counts.show()\n",
        "\n",
        "# Fill missing numeric columns with mean\n",
        "numeric_cols = [c for c, t in data.dtypes if t in ['double', 'int']]\n",
        "for column in numeric_cols:\n",
        "    mean_value = data.select(mean(col(column))).collect()[0][0]\n",
        "    data = data.fillna({column: mean_value})\n",
        "\n",
        "# Fill missing categorical columns (if any)\n",
        "categorical_cols = [c for c, t in data.dtypes if t == 'string']\n",
        "for column in categorical_cols:\n",
        "    data = data.fillna({column: 'Unknown'})\n",
        "\n",
        "print(\"✅ Missing values handled.\")\n"
      ],
      "metadata": {
        "colab": {
          "base_uri": "https://localhost:8080/"
        },
        "id": "vyAnCD40hLru",
        "outputId": "7a4f9263-51a4-45f4-a849-34333d7d38a3"
      },
      "execution_count": 6,
      "outputs": [
        {
          "output_type": "stream",
          "name": "stdout",
          "text": [
            "🔍 Missing value count per column:\n",
            "+----+---+---+---+---+---+---+---+---+---+---+---+---+---+---+---+---+---+---+---+---+---+---+---+---+---+---+---+---+------+-----+\n",
            "|Time| V1| V2| V3| V4| V5| V6| V7| V8| V9|V10|V11|V12|V13|V14|V15|V16|V17|V18|V19|V20|V21|V22|V23|V24|V25|V26|V27|V28|Amount|Class|\n",
            "+----+---+---+---+---+---+---+---+---+---+---+---+---+---+---+---+---+---+---+---+---+---+---+---+---+---+---+---+---+------+-----+\n",
            "|   0|  0|  0|  0|  0|  0|  0|  0|  0|  0|  0|  0|  0|  0|  0|  0|  0|  0|  0|  0|  0|  0|  0|  0|  0|  0|  0|  0|  0|     0|    0|\n",
            "+----+---+---+---+---+---+---+---+---+---+---+---+---+---+---+---+---+---+---+---+---+---+---+---+---+---+---+---+---+------+-----+\n",
            "\n",
            "✅ Missing values handled.\n"
          ]
        }
      ]
    },
    {
      "cell_type": "code",
      "source": [
        "for column in numeric_cols:\n",
        "    data = data.withColumn(column, col(column).cast(\"double\"))\n",
        "\n",
        "data.printSchema()\n",
        "print(\"✅ Data types standardized.\")\n"
      ],
      "metadata": {
        "colab": {
          "base_uri": "https://localhost:8080/"
        },
        "id": "BHToN7-nhRdU",
        "outputId": "2683aa35-ba4e-4f8d-f0c9-f1f5c8657b6b"
      },
      "execution_count": 7,
      "outputs": [
        {
          "output_type": "stream",
          "name": "stdout",
          "text": [
            "root\n",
            " |-- Time: double (nullable = false)\n",
            " |-- V1: double (nullable = false)\n",
            " |-- V2: double (nullable = false)\n",
            " |-- V3: double (nullable = false)\n",
            " |-- V4: double (nullable = false)\n",
            " |-- V5: double (nullable = false)\n",
            " |-- V6: double (nullable = false)\n",
            " |-- V7: double (nullable = false)\n",
            " |-- V8: double (nullable = false)\n",
            " |-- V9: double (nullable = false)\n",
            " |-- V10: double (nullable = false)\n",
            " |-- V11: double (nullable = false)\n",
            " |-- V12: double (nullable = false)\n",
            " |-- V13: double (nullable = false)\n",
            " |-- V14: double (nullable = false)\n",
            " |-- V15: double (nullable = false)\n",
            " |-- V16: double (nullable = false)\n",
            " |-- V17: double (nullable = false)\n",
            " |-- V18: double (nullable = false)\n",
            " |-- V19: double (nullable = false)\n",
            " |-- V20: double (nullable = false)\n",
            " |-- V21: double (nullable = false)\n",
            " |-- V22: double (nullable = false)\n",
            " |-- V23: double (nullable = false)\n",
            " |-- V24: double (nullable = false)\n",
            " |-- V25: double (nullable = false)\n",
            " |-- V26: double (nullable = false)\n",
            " |-- V27: double (nullable = false)\n",
            " |-- V28: double (nullable = false)\n",
            " |-- Amount: double (nullable = false)\n",
            " |-- Class: double (nullable = true)\n",
            "\n",
            "✅ Data types standardized.\n"
          ]
        }
      ]
    },
    {
      "cell_type": "code",
      "source": [
        "before = data.count()\n",
        "data = data.dropDuplicates()\n",
        "after = data.count()\n",
        "\n",
        "print(f\"🧹 Removed {before - after} duplicate rows.\")\n"
      ],
      "metadata": {
        "colab": {
          "base_uri": "https://localhost:8080/"
        },
        "id": "k38kTHqehUOO",
        "outputId": "2bfe3b5a-285b-44a2-bd07-86c8f0ec8fd0"
      },
      "execution_count": 8,
      "outputs": [
        {
          "output_type": "stream",
          "name": "stdout",
          "text": [
            "🧹 Removed 1081 duplicate rows.\n"
          ]
        }
      ]
    },
    {
      "cell_type": "code",
      "source": [
        "# Assemble all numeric columns into a single feature vector\n",
        "assembler = VectorAssembler(\n",
        "    inputCols=[c for c in data.columns if c not in ['Time', 'Class']],\n",
        "    outputCol=\"features\"\n",
        ")\n",
        "assembled = assembler.transform(data)\n",
        "\n",
        "# Apply StandardScaler\n",
        "scaler = StandardScaler(inputCol=\"features\", outputCol=\"scaled_features\", withMean=True, withStd=True)\n",
        "scaler_model = scaler.fit(assembled)\n",
        "scaled_data = scaler_model.transform(assembled)\n",
        "\n",
        "print(\"✅ Data normalization completed.\")\n",
        "scaled_data.select(\"scaled_features\").show(5, truncate=False)\n"
      ],
      "metadata": {
        "colab": {
          "base_uri": "https://localhost:8080/"
        },
        "id": "0FXVURAWhWFS",
        "outputId": "e5e7cb05-e590-41a3-a6e0-8d218312a8cb"
      },
      "execution_count": 9,
      "outputs": [
        {
          "output_type": "stream",
          "name": "stdout",
          "text": [
            "✅ Data normalization completed.\n",
            "+-------------------------------------------------------------------------------------------------------------------------------------------------------------------------------------------------------------------------------------------------------------------------------------------------------------------------------------------------------------------------------------------------------------------------------------------------------------------------------------------------------------------------------------------------------------------------------------------------------+\n",
            "|scaled_features                                                                                                                                                                                                                                                                                                                                                                                                                                                                                                                                                                                        |\n",
            "+-------------------------------------------------------------------------------------------------------------------------------------------------------------------------------------------------------------------------------------------------------------------------------------------------------------------------------------------------------------------------------------------------------------------------------------------------------------------------------------------------------------------------------------------------------------------------------------------------------+\n",
            "|[-0.21570858365194726,0.5523595317445807,1.1439388291758237,1.0440208340702093,0.004077812126977817,-0.1495507276921655,0.6014900579842388,-0.024081116846253747,-0.5402098414432607,-0.3202760746142579,-0.012117111950366074,0.7917274918509201,0.6382676223779714,-0.09092146318287064,0.08280836851242122,-1.6104924583373068,0.9203736968877704,-1.1278116022007503,0.669102625262371,0.12613299158904948,0.10720682819536832,0.6312129355291355,-0.06204545089902816,1.0605670091784694,-0.35236337186040373,-0.5758982822653183,0.4571756218871159,0.4637347424776012,-0.22153678917955774]     |\n",
            "|[-0.4966178361361749,0.45392893175060806,0.776816293072499,-0.15530308549867672,0.5364532313723509,1.3071989546436282,0.25349946163774995,0.5939278143863637,0.3252526370915122,-0.30826688451178463,-0.5558711801269588,-0.4100926827211682,-1.5197590040632092,0.11137857382282047,0.959177981690558,-1.6917794495350917,1.3461639021219487,-2.561422103079501,-1.2067368912883665,0.00738925122491875,-0.2106495055832722,-0.016501285885661514,-0.0634791450369314,-2.4844583632993573,-0.4758366781378518,0.852896199942353,1.2522044965084531,0.6309003645534972,-0.24557837676993488]           |\n",
            "|[-0.5747861464453936,0.073791577684821,1.38448453591819,0.33680631476552864,0.3540659689286962,-0.7452740660172891,0.02960054373901059,0.12408911195922513,-0.7756250973136737,-0.17774310331301268,1.3834287567089802,0.24746831871313263,-0.8163136592591743,0.6601125037846632,0.7476009380087243,0.09935763194310322,-0.26481613379496055,0.35328456667941815,1.2257169665717382,0.34080180279066774,-0.10309587197402913,-0.8124654770871163,0.07065535766886137,0.8344722967056021,-0.022986924244705394,0.4159109911722092,-0.035528279937029915,0.24143410816279434,-0.2974554901916956]       |\n",
            "|[0.6564053400800325,0.1865591103829181,-0.04608122248708383,0.6602045403114104,0.08392072574510073,-0.36478291357986203,0.16530459643377945,-0.1475912220873677,0.05464805296131167,0.01570525317228573,-1.144076867818877,-0.15591299449813698,0.018339839061002363,0.3845158429584961,1.0876458845890888,0.3429207721676152,-0.8589132586791189,0.16478344735626713,-0.06941944795671764,-0.13688293021539427,-0.03163588336082422,-0.059821178304241565,-0.33653766648032835,-0.736931905051602,1.519468051383995,-0.574876448333613,0.020759624254481045,0.038779195051758746,-0.29721587303963204]|\n",
            "|[-0.503018107782186,0.49415435592047874,1.0169472857150084,-0.47026686970718057,0.2806110232014336,-0.47240189687375805,0.44846153330735294,0.10002495948405152,-0.3609188369114055,-0.22053742457375275,0.7631798758832897,0.08407785269361355,-0.9507439815490346,0.4508550807376596,-0.15513331169361164,0.8943818970469265,-1.168267962821945,0.3212635786170882,-0.31309662795073434,-0.08219365026367774,-0.2708520722900238,-0.9054860264318775,-0.23092895700626886,-0.06742644086220527,-0.25306616253034975,-0.09409046361589972,0.4094458629773074,0.42150670496060855,-0.32824629423186297]|\n",
            "+-------------------------------------------------------------------------------------------------------------------------------------------------------------------------------------------------------------------------------------------------------------------------------------------------------------------------------------------------------------------------------------------------------------------------------------------------------------------------------------------------------------------------------------------------------------------------------------------------------+\n",
            "only showing top 5 rows\n",
            "\n"
          ]
        }
      ]
    },
    {
      "cell_type": "code",
      "source": [
        "from pyspark.sql.functions import floor\n",
        "\n",
        "# Create hour of transaction\n",
        "scaled_data = scaled_data.withColumn(\"Transaction_Hour\", floor(col(\"Time\") / 3600))\n",
        "\n",
        "# Create transaction category\n",
        "scaled_data = scaled_data.withColumn(\n",
        "    \"Amount_Category\",\n",
        "    when(col(\"Amount\") < 10, \"Low\") \\\n",
        "    .when(col(\"Amount\") < 100, \"Medium\") \\\n",
        "    .otherwise(\"High\")\n",
        ")\n",
        "\n",
        "scaled_data.select(\"Time\", \"Transaction_Hour\", \"Amount\", \"Amount_Category\").show(5)\n",
        "print(\"✅ Feature engineering completed.\")\n"
      ],
      "metadata": {
        "colab": {
          "base_uri": "https://localhost:8080/"
        },
        "id": "0s-VYh0vhYxa",
        "outputId": "f872c3cb-ad01-4018-a944-924c8784a111"
      },
      "execution_count": 10,
      "outputs": [
        {
          "output_type": "stream",
          "name": "stdout",
          "text": [
            "+------+----------------+------+---------------+\n",
            "|  Time|Transaction_Hour|Amount|Amount_Category|\n",
            "+------+----------------+------+---------------+\n",
            "|  23.0|               0|  33.0|         Medium|\n",
            "| 231.0|               0| 26.98|         Medium|\n",
            "| 462.0|               0| 13.99|         Medium|\n",
            "| 751.0|               0| 14.05|         Medium|\n",
            "|1253.0|               0|  6.28|            Low|\n",
            "+------+----------------+------+---------------+\n",
            "only showing top 5 rows\n",
            "\n",
            "✅ Feature engineering completed.\n"
          ]
        }
      ]
    },
    {
      "cell_type": "code",
      "source": [
        "# Drop complex vector columns before saving\n",
        "clean_data = scaled_data.drop(\"features\", \"scaled_features\")\n",
        "\n",
        "# Define output path\n",
        "output_path = \"/content/cleaned_creditcard_data.csv\"\n",
        "\n",
        "# Save as CSV\n",
        "clean_data.write.csv(output_path, header=True, mode=\"overwrite\")\n",
        "\n",
        "print(f\"✅ Cleaned dataset saved successfully at: {output_path}\")\n"
      ],
      "metadata": {
        "colab": {
          "base_uri": "https://localhost:8080/"
        },
        "id": "aT5_xGO2ha_D",
        "outputId": "cff9049b-bc26-46d9-c3c2-1488626e8277"
      },
      "execution_count": 12,
      "outputs": [
        {
          "output_type": "stream",
          "name": "stdout",
          "text": [
            "✅ Cleaned dataset saved successfully at: /content/cleaned_creditcard_data.csv\n"
          ]
        }
      ]
    },
    {
      "cell_type": "code",
      "source": [
        "print(\"📊 Data Preprocessing Summary\")\n",
        "print(\"- Missing values handled (numeric: mean, categorical: 'Unknown')\")\n",
        "print(\"- Data types standardized to double\")\n",
        "print(\"- Duplicates removed\")\n",
        "print(\"- Features normalized using StandardScaler\")\n",
        "print(\"- Engineered features: Transaction_Hour, Amount_Category\")\n",
        "print(\"✅ Dataset ready for downstream analytics or ML tasks.\")\n"
      ],
      "metadata": {
        "colab": {
          "base_uri": "https://localhost:8080/"
        },
        "id": "0fqYhmdzhdKI",
        "outputId": "541262f1-2b58-49b4-c87b-baa27589ce5c"
      },
      "execution_count": 15,
      "outputs": [
        {
          "output_type": "stream",
          "name": "stdout",
          "text": [
            "📊 Data Preprocessing Summary\n",
            "- Missing values handled (numeric: mean, categorical: 'Unknown')\n",
            "- Data types standardized to double\n",
            "- Duplicates removed\n",
            "- Features normalized using StandardScaler\n",
            "- Engineered features: Transaction_Hour, Amount_Category\n",
            "✅ Dataset ready for downstream analytics or ML tasks.\n"
          ]
        }
      ]
    }
  ]
}