{
  "nbformat": 4,
  "nbformat_minor": 0,
  "metadata": {
    "colab": {
      "provenance": [],
      "authorship_tag": "ABX9TyOOU1KMGslqfaLXivXHPoiK",
      "include_colab_link": true
    },
    "kernelspec": {
      "name": "python3",
      "display_name": "Python 3"
    },
    "language_info": {
      "name": "python"
    }
  },
  "cells": [
    {
      "cell_type": "markdown",
      "metadata": {
        "id": "view-in-github",
        "colab_type": "text"
      },
      "source": [
        "<a href=\"https://colab.research.google.com/github/LathaAlagar/latha2809/blob/main/23BIT050_Data_Preprocessing_Challenge_py.ipynb\" target=\"_parent\"><img src=\"https://colab.research.google.com/assets/colab-badge.svg\" alt=\"Open In Colab\"/></a>"
      ]
    },
    {
      "cell_type": "code",
      "execution_count": 1,
      "metadata": {
        "colab": {
          "base_uri": "https://localhost:8080/"
        },
        "id": "R-EUenyggwyL",
        "outputId": "5147636a-72aa-4d38-81ea-989f9df2b222"
      },
      "outputs": [
        {
          "output_type": "stream",
          "name": "stdout",
          "text": [
            "Requirement already satisfied: pyspark in /usr/local/lib/python3.12/dist-packages (3.5.1)\n",
            "Requirement already satisfied: kagglehub in /usr/local/lib/python3.12/dist-packages (0.3.13)\n",
            "Requirement already satisfied: py4j==0.10.9.7 in /usr/local/lib/python3.12/dist-packages (from pyspark) (0.10.9.7)\n",
            "Requirement already satisfied: packaging in /usr/local/lib/python3.12/dist-packages (from kagglehub) (25.0)\n",
            "Requirement already satisfied: pyyaml in /usr/local/lib/python3.12/dist-packages (from kagglehub) (6.0.3)\n",
            "Requirement already satisfied: requests in /usr/local/lib/python3.12/dist-packages (from kagglehub) (2.32.4)\n",
            "Requirement already satisfied: tqdm in /usr/local/lib/python3.12/dist-packages (from kagglehub) (4.67.1)\n",
            "Requirement already satisfied: charset_normalizer<4,>=2 in /usr/local/lib/python3.12/dist-packages (from requests->kagglehub) (3.4.3)\n",
            "Requirement already satisfied: idna<4,>=2.5 in /usr/local/lib/python3.12/dist-packages (from requests->kagglehub) (3.10)\n",
            "Requirement already satisfied: urllib3<3,>=1.21.1 in /usr/local/lib/python3.12/dist-packages (from requests->kagglehub) (2.5.0)\n",
            "Requirement already satisfied: certifi>=2017.4.17 in /usr/local/lib/python3.12/dist-packages (from requests->kagglehub) (2025.10.5)\n"
          ]
        }
      ],
      "source": [
        "!pip install pyspark kagglehub"
      ]
    },
    {
      "cell_type": "code",
      "source": [
        "import kagglehub\n",
        "from pyspark.sql import SparkSession\n",
        "from pyspark.sql.functions import col, mean, when, count, isnan\n",
        "from pyspark.ml.feature import VectorAssembler, StandardScaler\n",
        "\n",
        "# Download latest version of dataset\n",
        "path = kagglehub.dataset_download(\"mlg-ulb/creditcardfraud\")\n",
        "print(\"📁 Path to dataset files:\", path)\n"
      ],
      "metadata": {
        "colab": {
          "base_uri": "https://localhost:8080/"
        },
        "id": "rnr91aUEg3X7",
        "outputId": "bf6bfc88-82f2-48b7-c25d-6c270373a48c"
      },
      "execution_count": 3,
      "outputs": [
        {
          "output_type": "stream",
          "name": "stdout",
          "text": [
            "Using Colab cache for faster access to the 'creditcardfraud' dataset.\n",
            "📁 Path to dataset files: /kaggle/input/creditcardfraud\n"
          ]
        }
      ]
    },
    {
      "cell_type": "code",
      "source": [
        "spark = SparkSession.builder \\\n",
        "    .appName(\"DataPreprocessingChallenge\") \\\n",
        "    .getOrCreate()\n",
        "\n",
        "print(\"✅ Spark session created successfully!\")\n"
      ],
      "metadata": {
        "colab": {
          "base_uri": "https://localhost:8080/"
        },
        "id": "MHo-Cuaeg5SE",
        "outputId": "83792d7d-1264-4e39-a9c6-016e273a2673"
      },
      "execution_count": 4,
      "outputs": [
        {
          "output_type": "stream",
          "name": "stdout",
          "text": [
            "✅ Spark session created successfully!\n"
          ]
        }
      ]
    },
    {
      "cell_type": "code",
      "source": [
        "# Read CSV file\n",
        "file_path = f\"{path}/creditcard.csv\"  # Kaggle dataset file name\n",
        "data = spark.read.csv(file_path, header=True, inferSchema=True)\n",
        "\n",
        "print(\"✅ Dataset loaded successfully.\")\n",
        "data.printSchema()\n",
        "data.show(5)\n"
      ],
      "metadata": {
        "colab": {
          "base_uri": "https://localhost:8080/"
        },
        "id": "Mst-IKyGg74r",
        "outputId": "151b524d-707d-4d02-a84a-31e0c6089453"
      },
      "execution_count": 5,
      "outputs": [
        {
          "output_type": "stream",
          "name": "stdout",
          "text": [
            "✅ Dataset loaded successfully.\n",
            "root\n",
            " |-- Time: double (nullable = true)\n",
            " |-- V1: double (nullable = true)\n",
            " |-- V2: double (nullable = true)\n",
            " |-- V3: double (nullable = true)\n",
            " |-- V4: double (nullable = true)\n",
            " |-- V5: double (nullable = true)\n",
            " |-- V6: double (nullable = true)\n",
            " |-- V7: double (nullable = true)\n",
            " |-- V8: double (nullable = true)\n",
            " |-- V9: double (nullable = true)\n",
            " |-- V10: double (nullable = true)\n",
            " |-- V11: double (nullable = true)\n",
            " |-- V12: double (nullable = true)\n",
            " |-- V13: double (nullable = true)\n",
            " |-- V14: double (nullable = true)\n",
            " |-- V15: double (nullable = true)\n",
            " |-- V16: double (nullable = true)\n",
            " |-- V17: double (nullable = true)\n",
            " |-- V18: double (nullable = true)\n",
            " |-- V19: double (nullable = true)\n",
            " |-- V20: double (nullable = true)\n",
            " |-- V21: double (nullable = true)\n",
            " |-- V22: double (nullable = true)\n",
            " |-- V23: double (nullable = true)\n",
            " |-- V24: double (nullable = true)\n",
            " |-- V25: double (nullable = true)\n",
            " |-- V26: double (nullable = true)\n",
            " |-- V27: double (nullable = true)\n",
            " |-- V28: double (nullable = true)\n",
            " |-- Amount: double (nullable = true)\n",
            " |-- Class: integer (nullable = true)\n",
            "\n",
            "+----+------------------+-------------------+----------------+------------------+-------------------+-------------------+-------------------+------------------+------------------+-------------------+------------------+------------------+------------------+------------------+------------------+------------------+------------------+-------------------+------------------+-------------------+--------------------+-------------------+------------------+------------------+------------------+------------------+--------------------+-------------------+------+-----+\n",
            "|Time|                V1|                 V2|              V3|                V4|                 V5|                 V6|                 V7|                V8|                V9|                V10|               V11|               V12|               V13|               V14|               V15|               V16|               V17|                V18|               V19|                V20|                 V21|                V22|               V23|               V24|               V25|               V26|                 V27|                V28|Amount|Class|\n",
            "+----+------------------+-------------------+----------------+------------------+-------------------+-------------------+-------------------+------------------+------------------+-------------------+------------------+------------------+------------------+------------------+------------------+------------------+------------------+-------------------+------------------+-------------------+--------------------+-------------------+------------------+------------------+------------------+------------------+--------------------+-------------------+------+-----+\n",
            "| 0.0|  -1.3598071336738|-0.0727811733098497|2.53634673796914|  1.37815522427443| -0.338320769942518|  0.462387777762292|  0.239598554061257|0.0986979012610507| 0.363786969611213| 0.0907941719789316|-0.551599533260813|-0.617800855762348|-0.991389847235408|-0.311169353699879|  1.46817697209427|-0.470400525259478| 0.207971241929242| 0.0257905801985591| 0.403992960255733|  0.251412098239705|  -0.018306777944153|  0.277837575558899|-0.110473910188767|0.0669280749146731| 0.128539358273528|-0.189114843888824|   0.133558376740387|-0.0210530534538215|149.62|    0|\n",
            "| 0.0|  1.19185711131486|   0.26615071205963|0.16648011335321| 0.448154078460911| 0.0600176492822243|-0.0823608088155687|-0.0788029833323113|0.0851016549148104|-0.255425128109186| -0.166974414004614|  1.61272666105479|  1.06523531137287|  0.48909501589608|-0.143772296441519| 0.635558093258208| 0.463917041022171|-0.114804663102346| -0.183361270123994|-0.145783041325259|-0.0690831352230203|  -0.225775248033138| -0.638671952771851| 0.101288021253234|-0.339846475529127| 0.167170404418143| 0.125894532368176|-0.00898309914322813| 0.0147241691924927|  2.69|    0|\n",
            "| 1.0| -1.35835406159823|  -1.34016307473609|1.77320934263119| 0.379779593034328| -0.503198133318193|   1.80049938079263|  0.791460956450422| 0.247675786588991| -1.51465432260583|  0.207642865216696| 0.624501459424895| 0.066083685268831| 0.717292731410831|-0.165945922763554|  2.34586494901581| -2.89008319444231|  1.10996937869599| -0.121359313195888| -2.26185709530414|  0.524979725224404|   0.247998153469754|  0.771679401917229| 0.909412262347719|-0.689280956490685|-0.327641833735251|-0.139096571514147| -0.0553527940384261|-0.0597518405929204|378.66|    0|\n",
            "| 1.0|-0.966271711572087| -0.185226008082898|1.79299333957872|-0.863291275036453|-0.0103088796030823|   1.24720316752486|   0.23760893977178| 0.377435874652262| -1.38702406270197|-0.0549519224713749|-0.226487263835401| 0.178228225877303| 0.507756869957169| -0.28792374549456|-0.631418117709045|  -1.0596472454325|-0.684092786345479|   1.96577500349538|  -1.2326219700892| -0.208037781160366|  -0.108300452035545|0.00527359678253453|-0.190320518742841| -1.17557533186321| 0.647376034602038|-0.221928844458407|  0.0627228487293033| 0.0614576285006353| 123.5|    0|\n",
            "| 2.0| -1.15823309349523|  0.877736754848451|  1.548717846511| 0.403033933955121| -0.407193377311653| 0.0959214624684256|  0.592940745385545|-0.270532677192282| 0.817739308235294|  0.753074431976354|-0.822842877946363|  0.53819555014995|   1.3458515932154| -1.11966983471731| 0.175121130008994|-0.451449182813529|-0.237033239362776|-0.0381947870352842| 0.803486924960175|  0.408542360392758|-0.00943069713232919|   0.79827849458971|-0.137458079619063| 0.141266983824769|-0.206009587619756| 0.502292224181569|   0.219422229513348|  0.215153147499206| 69.99|    0|\n",
            "+----+------------------+-------------------+----------------+------------------+-------------------+-------------------+-------------------+------------------+------------------+-------------------+------------------+------------------+------------------+------------------+------------------+------------------+------------------+-------------------+------------------+-------------------+--------------------+-------------------+------------------+------------------+------------------+------------------+--------------------+-------------------+------+-----+\n",
            "only showing top 5 rows\n",
            "\n"
          ]
        }
      ]
    },
    {
      "cell_type": "code",
      "source": [
        "# Count missing values\n",
        "missing_counts = data.select([count(when(col(c).isNull() | isnan(c), c)).alias(c) for c in data.columns])\n",
        "print(\"🔍 Missing value count per column:\")\n",
        "missing_counts.show()\n",
        "\n",
        "# Fill missing numeric columns with mean\n",
        "numeric_cols = [c for c, t in data.dtypes if t in ['double', 'int']]\n",
        "for column in numeric_cols:\n",
        "    mean_value = data.select(mean(col(column))).collect()[0][0]\n",
        "    data = data.fillna({column: mean_value})\n",
        "\n",
        "# Fill missing categorical columns (if any)\n",
        "categorical_cols = [c for c, t in data.dtypes if t == 'string']\n",
        "for column in categorical_cols:\n",
        "    data = data.fillna({column: 'Unknown'})\n",
        "\n",
        "print(\"✅ Missing values handled.\")\n"
      ],
      "metadata": {
        "colab": {
          "base_uri": "https://localhost:8080/"
        },
        "id": "vyAnCD40hLru",
        "outputId": "7a4f9263-51a4-45f4-a849-34333d7d38a3"
      },
      "execution_count": 6,
      "outputs": [
        {
          "output_type": "stream",
          "name": "stdout",
          "text": [
            "🔍 Missing value count per column:\n",
            "+----+---+---+---+---+---+---+---+---+---+---+---+---+---+---+---+---+---+---+---+---+---+---+---+---+---+---+---+---+------+-----+\n",
            "|Time| V1| V2| V3| V4| V5| V6| V7| V8| V9|V10|V11|V12|V13|V14|V15|V16|V17|V18|V19|V20|V21|V22|V23|V24|V25|V26|V27|V28|Amount|Class|\n",
            "+----+---+---+---+---+---+---+---+---+---+---+---+---+---+---+---+---+---+---+---+---+---+---+---+---+---+---+---+---+------+-----+\n",
            "|   0|  0|  0|  0|  0|  0|  0|  0|  0|  0|  0|  0|  0|  0|  0|  0|  0|  0|  0|  0|  0|  0|  0|  0|  0|  0|  0|  0|  0|     0|    0|\n",
            "+----+---+---+---+---+---+---+---+---+---+---+---+---+---+---+---+---+---+---+---+---+---+---+---+---+---+---+---+---+------+-----+\n",
            "\n",
            "✅ Missing values handled.\n"
          ]
        }
      ]
    },
    {
      "cell_type": "code",
      "source": [
        "for column in numeric_cols:\n",
        "    data = data.withColumn(column, col(column).cast(\"double\"))\n",
        "\n",
        "data.printSchema()\n",
        "print(\"✅ Data types standardized.\")\n"
      ],
      "metadata": {
        "colab": {
          "base_uri": "https://localhost:8080/"
        },
        "id": "BHToN7-nhRdU",
        "outputId": "2683aa35-ba4e-4f8d-f0c9-f1f5c8657b6b"
      },
      "execution_count": 7,
      "outputs": [
        {
          "output_type": "stream",
          "name": "stdout",
          "text": [
            "root\n",
            " |-- Time: double (nullable = false)\n",
            " |-- V1: double (nullable = false)\n",
            " |-- V2: double (nullable = false)\n",
            " |-- V3: double (nullable = false)\n",
            " |-- V4: double (nullable = false)\n",
            " |-- V5: double (nullable = false)\n",
            " |-- V6: double (nullable = false)\n",
            " |-- V7: double (nullable = false)\n",
            " |-- V8: double (nullable = false)\n",
            " |-- V9: double (nullable = false)\n",
            " |-- V10: double (nullable = false)\n",
            " |-- V11: double (nullable = false)\n",
            " |-- V12: double (nullable = false)\n",
            " |-- V13: double (nullable = false)\n",
            " |-- V14: double (nullable = false)\n",
            " |-- V15: double (nullable = false)\n",
            " |-- V16: double (nullable = false)\n",
            " |-- V17: double (nullable = false)\n",
            " |-- V18: double (nullable = false)\n",
            " |-- V19: double (nullable = false)\n",
            " |-- V20: double (nullable = false)\n",
            " |-- V21: double (nullable = false)\n",
            " |-- V22: double (nullable = false)\n",
            " |-- V23: double (nullable = false)\n",
            " |-- V24: double (nullable = false)\n",
            " |-- V25: double (nullable = false)\n",
            " |-- V26: double (nullable = false)\n",
            " |-- V27: double (nullable = false)\n",
            " |-- V28: double (nullable = false)\n",
            " |-- Amount: double (nullable = false)\n",
            " |-- Class: double (nullable = true)\n",
            "\n",
            "✅ Data types standardized.\n"
          ]
        }
      ]
    },
    {
      "cell_type": "code",
      "source": [
        "before = data.count()\n",
        "data = data.dropDuplicates()\n",
        "after = data.count()\n",
        "\n",
        "print(f\"🧹 Removed {before - after} duplicate rows.\")\n"
      ],
      "metadata": {
        "colab": {
          "base_uri": "https://localhost:8080/"
        },
        "id": "k38kTHqehUOO",
        "outputId": "2bfe3b5a-285b-44a2-bd07-86c8f0ec8fd0"
      },
      "execution_count": 8,
      "outputs": [
        {
          "output_type": "stream",
          "name": "stdout",
          "text": [
            "🧹 Removed 1081 duplicate rows.\n"
          ]
        }
      ]
    },
    {
      "cell_type": "code",
      "source": [
        "# =========================================\n",
        "# Download and Preprocess Credit Card Fraud Data\n",
        "# =========================================\n",
        "\n",
        "# 1️⃣ Import libraries\n",
        "import os\n",
        "import kagglehub\n",
        "from pyspark.sql import SparkSession\n",
        "from pyspark.ml.feature import VectorAssembler, StandardScaler\n",
        "from pyspark.sql.functions import col\n",
        "\n",
        "# -------------------------------\n",
        "# 2️⃣ Download dataset from Kaggle\n",
        "# -------------------------------\n",
        "data_path = kagglehub.dataset_download(\"mlg-ulb/creditcardfraud\")\n",
        "print(\"Dataset downloaded to:\", data_path)\n",
        "\n",
        "# The CSV file path inside the downloaded folder\n",
        "csv_file = os.path.join(data_path, \"creditcard.csv\")\n",
        "\n",
        "# -------------------------------\n",
        "# 3️⃣ Initialize Spark\n",
        "# -------------------------------\n",
        "spark = SparkSession.builder.appName(\"CreditCardFraud\").getOrCreate()\n",
        "\n",
        "# -------------------------------\n",
        "# 4️⃣ Load CSV into Spark DataFrame\n",
        "# -------------------------------\n",
        "data = spark.read.csv(csv_file, header=True, inferSchema=True)\n",
        "print(\"=== Raw Data Sample ===\")\n",
        "data.show(5)\n",
        "\n",
        "# -------------------------------\n",
        "# 5️⃣ Handle Missing Values\n",
        "# -------------------------------\n",
        "numeric_cols = [c.name for c in data.schema.fields if str(c.dataType) in ['IntegerType', 'DoubleType']]\n",
        "data = data.fillna({c: 0 for c in numeric_cols})\n",
        "\n",
        "# -------------------------------\n",
        "# 6️⃣ Remove Duplicates\n",
        "# -------------------------------\n",
        "data = data.dropDuplicates()\n",
        "\n",
        "# -------------------------------\n",
        "# 7️⃣ Feature Engineering\n",
        "# -------------------------------\n",
        "# Create 'TransactionHour' from 'Time' (seconds)\n",
        "data = data.withColumn(\"TransactionHour\", ((col(\"Time\") / 3600) % 24).cast(\"int\"))\n",
        "\n",
        "# -------------------------------\n",
        "# 8️⃣ Assemble Features\n",
        "# -------------------------------\n",
        "feature_cols = [c for c in data.columns if c not in ['Time', 'Class']]\n",
        "assembler = VectorAssembler(inputCols=feature_cols, outputCol=\"features\")\n",
        "assembled = assembler.transform(data)\n",
        "\n",
        "# -------------------------------\n",
        "# 9️⃣ Standardize Features\n",
        "# -------------------------------\n",
        "scaler = StandardScaler(inputCol=\"features\", outputCol=\"scaled_features\", withMean=True, withStd=True)\n",
        "scaler_model = scaler.fit(assembled)\n",
        "scaled_data = scaler_model.transform(assembled)\n",
        "\n",
        "scaled_data.select(\"scaled_features\").show(5, truncate=False)\n",
        "\n",
        "# -------------------------------\n",
        "# 10️⃣ Stop Spark\n",
        "# -------------------------------\n",
        "spark.stop()\n"
      ],
      "metadata": {
        "colab": {
          "base_uri": "https://localhost:8080/"
        },
        "id": "0FXVURAWhWFS",
        "outputId": "577e8b42-c535-4f04-9961-b611a114c470"
      },
      "execution_count": 6,
      "outputs": [
        {
          "output_type": "stream",
          "name": "stdout",
          "text": [
            "Using Colab cache for faster access to the 'creditcardfraud' dataset.\n",
            "Dataset downloaded to: /kaggle/input/creditcardfraud\n",
            "=== Raw Data Sample ===\n",
            "+----+------------------+-------------------+----------------+------------------+-------------------+-------------------+-------------------+------------------+------------------+-------------------+------------------+------------------+------------------+------------------+------------------+------------------+------------------+-------------------+------------------+-------------------+--------------------+-------------------+------------------+------------------+------------------+------------------+--------------------+-------------------+------+-----+\n",
            "|Time|                V1|                 V2|              V3|                V4|                 V5|                 V6|                 V7|                V8|                V9|                V10|               V11|               V12|               V13|               V14|               V15|               V16|               V17|                V18|               V19|                V20|                 V21|                V22|               V23|               V24|               V25|               V26|                 V27|                V28|Amount|Class|\n",
            "+----+------------------+-------------------+----------------+------------------+-------------------+-------------------+-------------------+------------------+------------------+-------------------+------------------+------------------+------------------+------------------+------------------+------------------+------------------+-------------------+------------------+-------------------+--------------------+-------------------+------------------+------------------+------------------+------------------+--------------------+-------------------+------+-----+\n",
            "| 0.0|  -1.3598071336738|-0.0727811733098497|2.53634673796914|  1.37815522427443| -0.338320769942518|  0.462387777762292|  0.239598554061257|0.0986979012610507| 0.363786969611213| 0.0907941719789316|-0.551599533260813|-0.617800855762348|-0.991389847235408|-0.311169353699879|  1.46817697209427|-0.470400525259478| 0.207971241929242| 0.0257905801985591| 0.403992960255733|  0.251412098239705|  -0.018306777944153|  0.277837575558899|-0.110473910188767|0.0669280749146731| 0.128539358273528|-0.189114843888824|   0.133558376740387|-0.0210530534538215|149.62|    0|\n",
            "| 0.0|  1.19185711131486|   0.26615071205963|0.16648011335321| 0.448154078460911| 0.0600176492822243|-0.0823608088155687|-0.0788029833323113|0.0851016549148104|-0.255425128109186| -0.166974414004614|  1.61272666105479|  1.06523531137287|  0.48909501589608|-0.143772296441519| 0.635558093258208| 0.463917041022171|-0.114804663102346| -0.183361270123994|-0.145783041325259|-0.0690831352230203|  -0.225775248033138| -0.638671952771851| 0.101288021253234|-0.339846475529127| 0.167170404418143| 0.125894532368176|-0.00898309914322813| 0.0147241691924927|  2.69|    0|\n",
            "| 1.0| -1.35835406159823|  -1.34016307473609|1.77320934263119| 0.379779593034328| -0.503198133318193|   1.80049938079263|  0.791460956450422| 0.247675786588991| -1.51465432260583|  0.207642865216696| 0.624501459424895| 0.066083685268831| 0.717292731410831|-0.165945922763554|  2.34586494901581| -2.89008319444231|  1.10996937869599| -0.121359313195888| -2.26185709530414|  0.524979725224404|   0.247998153469754|  0.771679401917229| 0.909412262347719|-0.689280956490685|-0.327641833735251|-0.139096571514147| -0.0553527940384261|-0.0597518405929204|378.66|    0|\n",
            "| 1.0|-0.966271711572087| -0.185226008082898|1.79299333957872|-0.863291275036453|-0.0103088796030823|   1.24720316752486|   0.23760893977178| 0.377435874652262| -1.38702406270197|-0.0549519224713749|-0.226487263835401| 0.178228225877303| 0.507756869957169| -0.28792374549456|-0.631418117709045|  -1.0596472454325|-0.684092786345479|   1.96577500349538|  -1.2326219700892| -0.208037781160366|  -0.108300452035545|0.00527359678253453|-0.190320518742841| -1.17557533186321| 0.647376034602038|-0.221928844458407|  0.0627228487293033| 0.0614576285006353| 123.5|    0|\n",
            "| 2.0| -1.15823309349523|  0.877736754848451|  1.548717846511| 0.403033933955121| -0.407193377311653| 0.0959214624684256|  0.592940745385545|-0.270532677192282| 0.817739308235294|  0.753074431976354|-0.822842877946363|  0.53819555014995|   1.3458515932154| -1.11966983471731| 0.175121130008994|-0.451449182813529|-0.237033239362776|-0.0381947870352842| 0.803486924960175|  0.408542360392758|-0.00943069713232919|   0.79827849458971|-0.137458079619063| 0.141266983824769|-0.206009587619756| 0.502292224181569|   0.219422229513348|  0.215153147499206| 69.99|    0|\n",
            "+----+------------------+-------------------+----------------+------------------+-------------------+-------------------+-------------------+------------------+------------------+-------------------+------------------+------------------+------------------+------------------+------------------+------------------+------------------+-------------------+------------------+-------------------+--------------------+-------------------+------------------+------------------+------------------+------------------+--------------------+-------------------+------+-----+\n",
            "only showing top 5 rows\n",
            "\n",
            "+--------------------------------------------------------------------------------------------------------------------------------------------------------------------------------------------------------------------------------------------------------------------------------------------------------------------------------------------------------------------------------------------------------------------------------------------------------------------------------------------------------------------------------------------------------------------------------------------------------------------------+\n",
            "|scaled_features                                                                                                                                                                                                                                                                                                                                                                                                                                                                                                                                                                                                           |\n",
            "+--------------------------------------------------------------------------------------------------------------------------------------------------------------------------------------------------------------------------------------------------------------------------------------------------------------------------------------------------------------------------------------------------------------------------------------------------------------------------------------------------------------------------------------------------------------------------------------------------------------------------+\n",
            "|[-0.27506275330351426,0.5332026213302462,0.8919270493606085,0.10495309152578021,0.29947626637744235,0.07610200026369361,0.5778498445934851,0.15005279272752586,-0.26026717663901155,-0.4489443263740445,0.8562585418528765,0.8569141910329424,-0.5749765303179921,0.10577647508372022,-1.6622857729327383,-0.32681605961561355,-0.36877275504075296,-0.48456403519365987,-1.011963319151572,-0.37732562627570293,0.0653668296109214,0.28724000959363666,-0.2978127451109537,0.0013481126429619027,0.19003113447632894,-1.1472869415109184,-0.18964567439109264,0.06938380213289304,-0.3288054009200101,-2.407212941713411]|\n",
            "|[-0.3114606754944579,0.5626936379286371,-0.09118220235617129,-0.8888154006467425,1.7705026780980815,2.5011399489590573,0.06948676800626948,0.8061660873356071,-0.2978895337381102,0.05866666582299379,-0.15469295444402154,-0.23375039957091376,-0.05418346149072238,0.2319712228798688,1.1542631796943204,0.5773948637270238,-1.068071014060754,0.09593284261578937,0.4398894257865747,0.4517503864488706,-0.4297747896770446,-1.2797150798927965,-0.07289711877858329,1.6171232919820684,0.031955072301101374,0.18855581051211384,0.9337281869479935,0.5476388708874903,-0.34617764444461807,-2.407212941713411]        |\n",
            "|[-0.7760143876229404,-0.12825042901869713,1.318820843369482,-1.1515665996519688,-0.46317274669377845,0.17234632772709943,-0.02937806441614376,0.03693661514273292,-0.21345991301552675,0.1543849118914531,-1.4905854305151343,-0.3184033061377105,1.1250732708500386,-1.6015679724158083,-1.3330393285800588,1.2153553955489946,0.05248729490570365,-1.603006331517341,0.8801517082876806,0.3020385794916694,-0.14030406378309276,0.20448624645275246,-0.7219995025856285,-0.6551438442544479,1.0637658060413357,-0.706649400758877,-0.8525232158858597,-1.2618691073498494,-0.024691298759343273,-2.407212941713411]     |\n",
            "|[-0.25508906503884066,0.5532797368361917,1.0895667819341268,-0.05696910278328409,-0.1433452959612203,-0.5323291744993865,0.45396614533051116,0.09939719603309087,-0.48981988774101526,-0.11202320950406826,1.308277812830202,0.2435590601695315,-0.9658423635460751,0.5521340367983354,0.24956497297618788,0.43039881928898804,-0.6174172386069007,0.22071383462417607,0.28416218363815904,0.08126075242450416,-0.23165428097624918,-0.714059458436765,0.02958468960216851,0.8114527358473169,-0.5325252918233261,0.09063614432635617,0.6357864316826288,0.3390030368389766,-0.3172638414289487,-2.407212941713411]       |\n",
            "|[-0.2741927550157783,0.5983875801582428,1.0945812478211148,-0.1044763465377858,0.09819870283057307,-0.15229087815079795,0.47372001739924263,0.14087631486519508,-0.7120997878893811,-0.1948209269683883,1.791041496533878,1.1785656652836447,0.609207266906394,0.249663541757334,0.33427808835889816,0.010072525376485744,-0.3947064735456798,-0.5489868768860448,-0.16887939866352056,0.16569320074414112,-0.17018508209084446,-0.37639322731062813,0.03798039709793833,0.36940463632766357,-0.5708614622404083,0.14137603907164883,0.7056465383386533,0.33841675081524025,-0.3254108245991097,-2.407212941713411]       |\n",
            "+--------------------------------------------------------------------------------------------------------------------------------------------------------------------------------------------------------------------------------------------------------------------------------------------------------------------------------------------------------------------------------------------------------------------------------------------------------------------------------------------------------------------------------------------------------------------------------------------------------------------------+\n",
            "only showing top 5 rows\n",
            "\n"
          ]
        }
      ]
    },
    {
      "cell_type": "code",
      "source": [
        "from pyspark.sql.functions import floor\n",
        "\n",
        "# Create hour of transaction\n",
        "scaled_data = scaled_data.withColumn(\"Transaction_Hour\", floor(col(\"Time\") / 3600))\n",
        "\n",
        "# Create transaction category\n",
        "scaled_data = scaled_data.withColumn(\n",
        "    \"Amount_Category\",\n",
        "    when(col(\"Amount\") < 10, \"Low\") \\\n",
        "    .when(col(\"Amount\") < 100, \"Medium\") \\\n",
        "    .otherwise(\"High\")\n",
        ")\n",
        "\n",
        "scaled_data.select(\"Time\", \"Transaction_Hour\", \"Amount\", \"Amount_Category\").show(5)\n",
        "print(\"✅ Feature engineering completed.\")\n"
      ],
      "metadata": {
        "colab": {
          "base_uri": "https://localhost:8080/"
        },
        "id": "0s-VYh0vhYxa",
        "outputId": "f872c3cb-ad01-4018-a944-924c8784a111"
      },
      "execution_count": 10,
      "outputs": [
        {
          "output_type": "stream",
          "name": "stdout",
          "text": [
            "+------+----------------+------+---------------+\n",
            "|  Time|Transaction_Hour|Amount|Amount_Category|\n",
            "+------+----------------+------+---------------+\n",
            "|  23.0|               0|  33.0|         Medium|\n",
            "| 231.0|               0| 26.98|         Medium|\n",
            "| 462.0|               0| 13.99|         Medium|\n",
            "| 751.0|               0| 14.05|         Medium|\n",
            "|1253.0|               0|  6.28|            Low|\n",
            "+------+----------------+------+---------------+\n",
            "only showing top 5 rows\n",
            "\n",
            "✅ Feature engineering completed.\n"
          ]
        }
      ]
    },
    {
      "cell_type": "code",
      "source": [
        "# Drop complex vector columns before saving\n",
        "clean_data = scaled_data.drop(\"features\", \"scaled_features\")\n",
        "\n",
        "# Define output path\n",
        "output_path = \"/content/cleaned_creditcard_data.csv\"\n",
        "\n",
        "# Save as CSV\n",
        "clean_data.write.csv(output_path, header=True, mode=\"overwrite\")\n",
        "\n",
        "print(f\"✅ Cleaned dataset saved successfully at: {output_path}\")\n"
      ],
      "metadata": {
        "colab": {
          "base_uri": "https://localhost:8080/"
        },
        "id": "aT5_xGO2ha_D",
        "outputId": "cff9049b-bc26-46d9-c3c2-1488626e8277"
      },
      "execution_count": 12,
      "outputs": [
        {
          "output_type": "stream",
          "name": "stdout",
          "text": [
            "✅ Cleaned dataset saved successfully at: /content/cleaned_creditcard_data.csv\n"
          ]
        }
      ]
    },
    {
      "cell_type": "code",
      "source": [
        "print(\"📊 Data Preprocessing Summary\")\n",
        "print(\"- Missing values handled (numeric: mean, categorical: 'Unknown')\")\n",
        "print(\"- Data types standardized to double\")\n",
        "print(\"- Duplicates removed\")\n",
        "print(\"- Features normalized using StandardScaler\")\n",
        "print(\"- Engineered features: Transaction_Hour, Amount_Category\")\n",
        "print(\"✅ Dataset ready for downstream analytics or ML tasks.\")\n"
      ],
      "metadata": {
        "colab": {
          "base_uri": "https://localhost:8080/"
        },
        "id": "0fqYhmdzhdKI",
        "outputId": "541262f1-2b58-49b4-c87b-baa27589ce5c"
      },
      "execution_count": 15,
      "outputs": [
        {
          "output_type": "stream",
          "name": "stdout",
          "text": [
            "📊 Data Preprocessing Summary\n",
            "- Missing values handled (numeric: mean, categorical: 'Unknown')\n",
            "- Data types standardized to double\n",
            "- Duplicates removed\n",
            "- Features normalized using StandardScaler\n",
            "- Engineered features: Transaction_Hour, Amount_Category\n",
            "✅ Dataset ready for downstream analytics or ML tasks.\n"
          ]
        }
      ]
    }
  ]
}